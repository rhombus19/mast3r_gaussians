{
 "cells": [
  {
   "cell_type": "code",
   "execution_count": 25,
   "id": "f5732eb4-d1c6-4848-9316-2ae457f753ee",
   "metadata": {},
   "outputs": [],
   "source": [
    "import sys\n",
    "import os\n",
    "import av\n",
    "from pathlib import Path"
   ]
  },
  {
   "cell_type": "code",
   "execution_count": 26,
   "id": "77364561-3640-481d-9ce5-4d233910dbcd",
   "metadata": {},
   "outputs": [],
   "source": [
    "def extract_frames(video_path: str, out_dir: str) -> None:\n",
    "    Path(out_dir).mkdir(parents=True, exist_ok=True)\n",
    "\n",
    "    with av.open(video_path) as container:\n",
    "        stream = container.streams.video[0]\n",
    "        stream.thread_type = \"AUTO\"\n",
    "\n",
    "        frame_count = 0\n",
    "        for frame in container.decode(stream):\n",
    "            img = frame.to_image()\n",
    "            out_name = f\"{video_path.replace(\".\",\"_\")}_frame_{frame_count:06}.png\"\n",
    "            img.save(os.path.join(out_dir, out_name))\n",
    "            frame_count += 1"
   ]
  },
  {
   "cell_type": "code",
   "execution_count": null,
   "id": "3251355a-9301-41c4-82ac-3d71950acc80",
   "metadata": {},
   "outputs": [],
   "source": []
  },
  {
   "cell_type": "code",
   "execution_count": 27,
   "id": "7bfec6e2-d0c4-44c3-a05b-61d3d3ae19ca",
   "metadata": {},
   "outputs": [],
   "source": [
    "in_dir = Path(\"/home/roman/schwimmhalle/\")"
   ]
  },
  {
   "cell_type": "code",
   "execution_count": 28,
   "id": "5639ed05-d094-4f95-99b8-e8272f35efdf",
   "metadata": {},
   "outputs": [],
   "source": [
    "for video_path in in_dir.iterdir():\n",
    "    extract_frames(str(video_path), in_dir / \"frames\")"
   ]
  },
  {
   "cell_type": "code",
   "execution_count": null,
   "id": "07087275-aa3c-4122-affe-d573508efb33",
   "metadata": {},
   "outputs": [],
   "source": []
  }
 ],
 "metadata": {
  "kernelspec": {
   "display_name": "Python 3 (ipykernel)",
   "language": "python",
   "name": "python3"
  },
  "language_info": {
   "codemirror_mode": {
    "name": "ipython",
    "version": 3
   },
   "file_extension": ".py",
   "mimetype": "text/x-python",
   "name": "python",
   "nbconvert_exporter": "python",
   "pygments_lexer": "ipython3",
   "version": "3.12.3"
  }
 },
 "nbformat": 4,
 "nbformat_minor": 5
}
